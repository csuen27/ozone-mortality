{
 "cells": [
  {
   "cell_type": "markdown",
   "id": "bdfee96b",
   "metadata": {},
   "source": [
    "### [Analysis] Change rate decomposition: ${\\delta}$Mort${^{(2)}}$"
   ]
  },
  {
   "cell_type": "markdown",
   "id": "b39a7b14",
   "metadata": {},
   "source": [
    "#### This set of demonstrative code shows how to estimate the ambient O${_3}$ exposure-associated mortality using curved relative risk model. Here the curved exposure-response associations are defined as the accumulative risks (not unit incremental risks), that values estimated from meta-regression directly represent the absolute additional risks. "
   ]
  },
  {
   "cell_type": "markdown",
   "id": "1bd8bc13-c4ef-4c95-bcd8-bb740cc2f514",
   "metadata": {},
   "source": [
    "#### For 1990-2019 change rate decomposition, here is the last key feature that all input parameters are changed into 2019.  "
   ]
  },
  {
   "cell_type": "code",
   "execution_count": 1,
   "id": "c76bfbd8",
   "metadata": {},
   "outputs": [],
   "source": [
    "import numpy as np\n",
    "import pandas as pd\n",
    "import time\n",
    "import warnings\n",
    "warnings.filterwarnings(\"ignore\")"
   ]
  },
  {
   "cell_type": "markdown",
   "id": "4c3206e3",
   "metadata": {},
   "source": [
    "#### Ambient O${_3}$ dataset is developed in global scale with 1/8°×1/8° spatial resolution, and thus we have to select the grids in China territory. "
   ]
  },
  {
   "cell_type": "code",
   "execution_count": 2,
   "id": "5f2bce24",
   "metadata": {},
   "outputs": [],
   "source": [
    "data = pd.read_csv('ozone_90_mort_est_total(1119).csv')\n",
    "data = data[data['arcgis_ID'] == 44]"
   ]
  },
  {
   "cell_type": "markdown",
   "id": "606ce181",
   "metadata": {},
   "source": [
    "#### We first should import the exposure-response (concentration-risk) curve-shaped lists, and here we also show what such dataset should look like. "
   ]
  },
  {
   "cell_type": "code",
   "execution_count": 3,
   "id": "67c36d8a",
   "metadata": {},
   "outputs": [],
   "source": [
    "cr_copd = pd.read_csv('copd_CR_curve_values.csv')\n",
    "cr_copd['lnRR'] = np.log(cr_copd['RR'])\n",
    "cr_copd['lnSD'] = (np.log(cr_copd['RR'])-np.log(cr_copd['RR_lb']))/1.96\n",
    "\n",
    "cr_cvds = pd.read_csv('cvds_CR_curve_values.csv')\n",
    "cr_cvds['lnRR'] = np.log(cr_cvds['RR'])\n",
    "cr_cvds['lnSD'] = (np.log(cr_cvds['RR'])-np.log(cr_cvds['RR_lb']))/1.96"
   ]
  },
  {
   "cell_type": "markdown",
   "id": "2dc2a16d",
   "metadata": {},
   "source": [
    "#### For the sake of quick computation (e.g. less than 10 minutes on JASMIN supercomputation system) as a demonstration, we have simplified some trivial aspects: (1) we cluster the age ≥25 population rather than 5-yr stratification. (2) we do not calculate the arithmetic mean and standard deviations, as we choose to report the median with 95% uncertainty intervals. "
   ]
  },
  {
   "cell_type": "code",
   "execution_count": 5,
   "id": "ed03fc03",
   "metadata": {},
   "outputs": [
    {
     "name": "stdout",
     "output_type": "stream",
     "text": [
      "0\n",
      "1000\n",
      "2000\n",
      "3000\n",
      "4000\n",
      "5000\n",
      "6000\n",
      "7000\n",
      "8000\n",
      "9000\n",
      "10000\n",
      "11000\n",
      "12000\n",
      "13000\n",
      "14000\n",
      "15000\n",
      "16000\n",
      "17000\n",
      "18000\n",
      "19000\n",
      "20000\n",
      "21000\n",
      "22000\n",
      "23000\n",
      "24000\n",
      "25000\n",
      "26000\n",
      "27000\n",
      "28000\n",
      "29000\n",
      "30000\n",
      "31000\n",
      "32000\n",
      "33000\n",
      "34000\n",
      "35000\n",
      "36000\n",
      "37000\n",
      "38000\n",
      "39000\n",
      "40000\n",
      "41000\n",
      "42000\n",
      "43000\n",
      "44000\n",
      "45000\n",
      "46000\n",
      "47000\n",
      "48000\n",
      "49000\n",
      "50000\n",
      "51000\n",
      "52000\n",
      "53000\n",
      "54000\n",
      "55000\n",
      "56000\n",
      "57000\n",
      "58000\n",
      "59000\n",
      "60000\n",
      "61000\n",
      "Time used: 230.15253048800002 s\n"
     ]
    }
   ],
   "source": [
    "start = time.process_time()\n",
    "\n",
    "for t in range(0,61607,1):\n",
    "    \n",
    "    ## Extract the age ≥25 risked proportion \n",
    "    pop_all_age       = data.iloc[t,25]\n",
    "    pop_all_age_sigma = data.iloc[t,26]\n",
    "    pop_25_age        = data.iloc[t,27]\n",
    "    pop_25_age_sigma  = data.iloc[t,28]\n",
    "    \n",
    "    ## Extract urban and rural population and MDA8h-ozone exposure \n",
    "    pop_urban_grid = data.iloc[t,10]\n",
    "    o3_mda8h_urban = data.iloc[t,22] \n",
    "    pop_rural_grid = data.iloc[t,11]\n",
    "    o3_mda8h_rural = data.iloc[t,23] \n",
    "    \n",
    "    ## Generate Gaussian distributed samples \n",
    "    pop_all_age_dist = np.random.normal(pop_all_age, pop_all_age_sigma, 1000) \n",
    "    pop_25_age_dist = np.random.normal(pop_25_age, pop_25_age_sigma, 1000)\n",
    "\n",
    "    urban_seq = min(999, int(np.round(o3_mda8h_urban, 1)*10))\n",
    "    rural_seq = min(999, int(np.round(o3_mda8h_rural, 1)*10))\n",
    "    \n",
    "    if cr_copd.iloc[urban_seq-1,2] < 1:\n",
    "        lnRR_copd_urban = 0\n",
    "        lnRR_sigma_copd_urban = 0 \n",
    "    else:\n",
    "        lnRR_copd_urban = cr_copd.iloc[urban_seq-1,4]\n",
    "        lnRR_sigma_copd_urban = cr_copd.iloc[urban_seq-1,5]\n",
    "\n",
    "    if cr_copd.iloc[rural_seq-1,2] < 1:\n",
    "        lnRR_copd_rural = 0\n",
    "        lnRR_sigma_copd_rural = 0\n",
    "    else:\n",
    "        lnRR_copd_rural = cr_copd.iloc[rural_seq-1,4]\n",
    "        lnRR_sigma_copd_rural = cr_copd.iloc[rural_seq-1,5]\n",
    "\n",
    "    if cr_cvds.iloc[urban_seq-1,2] < 1:\n",
    "        lnRR_cvds_urban = 0\n",
    "        lnRR_sigma_cvds_urban = 0 \n",
    "    else:\n",
    "        lnRR_cvds_urban = cr_cvds.iloc[urban_seq-1,4]\n",
    "        lnRR_sigma_cvds_urban = cr_cvds.iloc[urban_seq-1,5]\n",
    "\n",
    "    if cr_cvds.iloc[rural_seq-1,2] < 1:\n",
    "        lnRR_cvds_rural = 0\n",
    "        lnRR_sigma_cvds_rural = 0\n",
    "    else:\n",
    "        lnRR_cvds_rural = cr_cvds.iloc[rural_seq-1,4]\n",
    "        lnRR_sigma_cvds_rural = cr_cvds.iloc[rural_seq-1,5]\n",
    "\n",
    "    RR_dist_copd_urban = np.random.normal(lnRR_copd_urban, lnRR_sigma_copd_urban, 1000)\n",
    "    RR_dist_copd_rural = np.random.normal(lnRR_copd_rural, lnRR_sigma_copd_rural, 1000)    \n",
    "\n",
    "    RR_dist_cvds_urban = np.random.normal(lnRR_cvds_urban, lnRR_sigma_cvds_urban, 1000)\n",
    "    RR_dist_cvds_rural = np.random.normal(lnRR_cvds_rural, lnRR_sigma_cvds_rural, 1000)  \n",
    "\n",
    "    ## Extract the baseline mortality rate \n",
    "    copd_25_mort           = data.iloc[t,37]\n",
    "    copd_25_mort_sigma     = data.iloc[t,38]\n",
    "    cvds_25_mort           = data.iloc[t,41]\n",
    "    cvds_25_mort_sigma     = data.iloc[t,42]\n",
    "\n",
    "    copd_25_mort_dist = np.random.normal(copd_25_mort, copd_25_mort_sigma, 1000)\n",
    "    cvds_25_mort_dist = np.random.normal(cvds_25_mort, cvds_25_mort_sigma, 1000)\n",
    "\n",
    "    ## Start the Monte Carlo bootstrap simulation realisations \n",
    "    delta_mort_copd_urban = copd_25_mort_dist * (1 - np.exp(-RR_dist_copd_urban)) * pop_urban_grid * pop_25_age_dist / pop_all_age_dist / 100000 \n",
    "    delta_mort_copd_rural = copd_25_mort_dist * (1 - np.exp(-RR_dist_copd_rural)) * pop_rural_grid * pop_25_age_dist / pop_all_age_dist / 100000 \n",
    "\n",
    "    delta_mort_cvds_urban = cvds_25_mort_dist * (1 - np.exp(-RR_dist_cvds_urban)) * pop_urban_grid * pop_25_age_dist / pop_all_age_dist / 100000 \n",
    "    delta_mort_cvds_rural = cvds_25_mort_dist * (1 - np.exp(-RR_dist_cvds_rural)) * pop_rural_grid * pop_25_age_dist / pop_all_age_dist / 100000 \n",
    "    \n",
    "    ## Summarise the results \n",
    "    est_copd_urban = np.nanpercentile(delta_mort_copd_urban,50) \n",
    "    lb_copd_urban  = np.nanpercentile(delta_mort_copd_urban,2.5)\n",
    "    ub_copd_urban  = np.nanpercentile(delta_mort_copd_urban,97.5)\n",
    "\n",
    "    est_copd_rural = np.nanpercentile(delta_mort_copd_rural,50) \n",
    "    lb_copd_rural  = np.nanpercentile(delta_mort_copd_rural,2.5)\n",
    "    ub_copd_rural  = np.nanpercentile(delta_mort_copd_rural,97.5)\n",
    "    \n",
    "    est_cvd_urban = np.nanpercentile(delta_mort_cvds_urban,50) \n",
    "    lb_cvd_urban  = np.nanpercentile(delta_mort_cvds_urban,2.5)\n",
    "    ub_cvd_urban  = np.nanpercentile(delta_mort_cvds_urban,97.5)\n",
    "\n",
    "    est_cvd_rural = np.nanpercentile(delta_mort_cvds_rural,50) \n",
    "    lb_cvd_rural  = np.nanpercentile(delta_mort_cvds_rural,2.5)\n",
    "    ub_cvd_rural  = np.nanpercentile(delta_mort_cvds_rural,97.5)\n",
    "\n",
    "    ## Store the distribution statistics into the DataFrame     \n",
    "    data.iloc[t,73]  = est_copd_urban\n",
    "    data.iloc[t,74]  =  lb_copd_urban\n",
    "    data.iloc[t,75]  =  ub_copd_urban\n",
    "\n",
    "    data.iloc[t,78]  = est_copd_rural\n",
    "    data.iloc[t,79]  =  lb_copd_rural\n",
    "    data.iloc[t,80]  =  ub_copd_rural\n",
    "    \n",
    "    data.iloc[t,83]  = est_cvd_urban\n",
    "    data.iloc[t,84]  =  lb_cvd_urban\n",
    "    data.iloc[t,85]  =  ub_cvd_urban\n",
    "\n",
    "    data.iloc[t,88]  = est_cvd_rural\n",
    "    data.iloc[t,89]  =  lb_cvd_rural\n",
    "    data.iloc[t,90]  =  ub_cvd_rural\n",
    "    \n",
    "    if t%1000 == 0:\n",
    "        print(t) ## Add a tracer to check the simulation progresses \n",
    "    \n",
    "elapsed = (time.process_time() - start)\n",
    "print('Time used:', elapsed, \"s\")    "
   ]
  },
  {
   "cell_type": "markdown",
   "id": "34702f2b-ad60-48ae-aeff-21094932f826",
   "metadata": {},
   "source": [
    "#### Now let's have a look at the demonstrative estimations. Here we use the BNNDv2 for population ambient O${_3}$ exposure assessment, other than the fusion of BNNDv2, CEML and TAP, and thus the simulation results might be slightly deviant from the conclusions in our main analysis. "
   ]
  },
  {
   "cell_type": "code",
   "execution_count": 6,
   "id": "faedba17-c233-4334-b232-be15d3d22e26",
   "metadata": {},
   "outputs": [
    {
     "name": "stdout",
     "output_type": "stream",
     "text": [
      "Urban population mortality of COPD:  40.4 [29.4 to 53.1] thousands\n",
      "Rural population mortality of COPD:  123.7 [92.0 to 159.8] thousands\n"
     ]
    }
   ],
   "source": [
    "copd_urban_est = np.round(data['copd_25_death_urban_est'].sum()/1000,1)\n",
    "copd_urban_ub = np.round(data['copd_25_death_urban_ub'].sum()/1000,1)\n",
    "copd_urban_lb = np.round(data['copd_25_death_urban_lb'].sum()/1000,1)\n",
    "copd_rural_est = np.round(data['copd_25_death_rural_est'].sum()/1000,1)\n",
    "copd_rural_ub = np.round(data['copd_25_death_rural_ub'].sum()/1000,1)\n",
    "copd_rural_lb = np.round(data['copd_25_death_rural_lb'].sum()/1000,1)\n",
    "\n",
    "print(\"Urban population mortality of COPD:  \"+str(copd_urban_est)+\" [\"+str(copd_urban_lb)+\" to \"+str(copd_urban_ub)+\"] thousands\")\n",
    "print(\"Rural population mortality of COPD:  \"+str(copd_rural_est)+\" [\"+str(copd_rural_lb)+\" to \"+str(copd_rural_ub)+\"] thousands\")"
   ]
  },
  {
   "cell_type": "code",
   "execution_count": 7,
   "id": "c51eed69-b50f-4d59-aab3-5433f2251305",
   "metadata": {},
   "outputs": [
    {
     "name": "stdout",
     "output_type": "stream",
     "text": [
      "Urban population mortality of CVDs:  17.0 [11.0 to 23.3] thousands\n",
      "Rural population mortality of CVDs:  75.0 [53.4 to 98.1] thousands\n"
     ]
    }
   ],
   "source": [
    "cvds_urban_est = np.round(data['cvd_25_death_urban_est'].sum()/1000,1)\n",
    "cvds_urban_ub = np.round(data['cvd_25_death_urban_ub'].sum()/1000,1)\n",
    "cvds_urban_lb = np.round(data['cvd_25_death_urban_lb'].sum()/1000,1)\n",
    "cvds_rural_est = np.round(data['cvd_25_death_rural_est'].sum()/1000,1)\n",
    "cvds_rural_ub = np.round(data['cvd_25_death_rural_ub'].sum()/1000,1)\n",
    "cvds_rural_lb = np.round(data['cvd_25_death_rural_lb'].sum()/1000,1)\n",
    "\n",
    "print(\"Urban population mortality of CVDs:  \"+str(cvds_urban_est)+\" [\"+str(cvds_urban_lb)+\" to \"+str(cvds_urban_ub)+\"] thousands\")\n",
    "print(\"Rural population mortality of CVDs:  \"+str(cvds_rural_est)+\" [\"+str(cvds_rural_lb)+\" to \"+str(cvds_rural_ub)+\"] thousands\")"
   ]
  },
  {
   "cell_type": "code",
   "execution_count": 8,
   "id": "76e2ebec-34e8-47cc-9115-7246fd8b992a",
   "metadata": {},
   "outputs": [],
   "source": [
    "data.to_csv('change rate decomposition delta_mort_2019.csv', index=False)"
   ]
  }
 ],
 "metadata": {
  "kernelspec": {
   "display_name": "Python 3 + Jaspy",
   "language": "python",
   "name": "jaspy"
  },
  "language_info": {
   "codemirror_mode": {
    "name": "ipython",
    "version": 3
   },
   "file_extension": ".py",
   "mimetype": "text/x-python",
   "name": "python",
   "nbconvert_exporter": "python",
   "pygments_lexer": "ipython3",
   "version": "3.10.5"
  }
 },
 "nbformat": 4,
 "nbformat_minor": 5
}
