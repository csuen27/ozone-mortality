{
 "cells": [
  {
   "cell_type": "markdown",
   "metadata": {},
   "source": [
    "### [Analysis] Change rate decomposition"
   ]
  },
  {
   "cell_type": "markdown",
   "metadata": {},
   "source": [
    "#### Change rates are estimated based on the province-level values. "
   ]
  },
  {
   "cell_type": "code",
   "execution_count": 1,
   "metadata": {},
   "outputs": [],
   "source": [
    "import numpy as np\n",
    "import pandas as pd\n",
    "import time\n",
    "import warnings\n",
    "warnings.filterwarnings(\"ignore\")"
   ]
  },
  {
   "cell_type": "code",
   "execution_count": 2,
   "metadata": {},
   "outputs": [],
   "source": [
    "Mort1 = pd.read_csv('change rate decomposition delta_mort_1990.csv')\n",
    "A = pd.read_csv('change rate decomposition A.csv')\n",
    "B = pd.read_csv('change rate decomposition B.csv')\n",
    "C = pd.read_csv('change rate decomposition C.csv')\n",
    "D = pd.read_csv('change rate decomposition D.csv')\n",
    "Mort2 = pd.read_csv('change rate decomposition delta_mort_2019.csv')"
   ]
  },
  {
   "cell_type": "code",
   "execution_count": 3,
   "metadata": {},
   "outputs": [],
   "source": [
    "Mort1['mort_1'] = Mort1['copd_25_death_urban_est'] + Mort1['cvd_25_death_urban_est'] + Mort1['copd_25_death_rural_est'] + Mort1['cvd_25_death_rural_est']\n",
    "A['mort_A'] = A['copd_25_death_urban_est'] + A['cvd_25_death_urban_est'] + A['copd_25_death_rural_est'] + A['cvd_25_death_rural_est']\n",
    "B['mort_B'] = B['copd_25_death_urban_est'] + B['cvd_25_death_urban_est'] + B['copd_25_death_rural_est'] + B['cvd_25_death_rural_est']\n",
    "C['mort_C'] = C['copd_25_death_urban_est'] + C['cvd_25_death_urban_est'] + C['copd_25_death_rural_est'] + C['cvd_25_death_rural_est']\n",
    "D['mort_D'] = D['copd_25_death_urban_est'] + D['cvd_25_death_urban_est'] + D['copd_25_death_rural_est'] + D['cvd_25_death_rural_est']\n",
    "Mort2['mort_2'] = Mort2['copd_25_death_urban_est'] + Mort2['cvd_25_death_urban_est'] + Mort2['copd_25_death_rural_est'] + Mort2['cvd_25_death_rural_est']"
   ]
  },
  {
   "cell_type": "code",
   "execution_count": 4,
   "metadata": {},
   "outputs": [],
   "source": [
    "coord = pd.read_csv('~/ChinaOzone/coord_proj.csv')"
   ]
  },
  {
   "cell_type": "code",
   "execution_count": 5,
   "metadata": {},
   "outputs": [],
   "source": [
    "full = Mort1[['loc','longitude','latitude','mort_1']]\n",
    "full['mort_A'] = A['mort_A']\n",
    "full['mort_B'] = B['mort_B']\n",
    "full['mort_C'] = C['mort_C']\n",
    "full['mort_D'] = D['mort_D']\n",
    "full['mort_2'] = Mort2['mort_2']\n",
    "full = full.merge(coord, how='left', left_on=['longitude','latitude'], right_on=['longitude','latitude'])"
   ]
  },
  {
   "cell_type": "code",
   "execution_count": 6,
   "metadata": {},
   "outputs": [],
   "source": [
    "full_province = full.groupby(['province']).sum()[['mort_1','mort_A','mort_B','mort_C','mort_D','mort_2']]"
   ]
  },
  {
   "cell_type": "code",
   "execution_count": 7,
   "metadata": {},
   "outputs": [],
   "source": [
    "full_province['popu_growth'] = (full_province['mort_A']-full_province['mort_1'])/full_province['mort_1']*100\n",
    "full_province['popu_ageing'] = (full_province['mort_B']-full_province['mort_A'])/full_province['mort_A']*100\n",
    "full_province['mort_change'] = (full_province['mort_C']-full_province['mort_B'])/full_province['mort_B']*100\n",
    "full_province['expo_change'] = (full_province['mort_D']-full_province['mort_C'])/full_province['mort_C']*100\n",
    "full_province['popu_migrat'] = (full_province['mort_2']-full_province['mort_D'])/full_province['mort_D']*100\n",
    "full_province['change_rate'] = (full_province['mort_2']-full_province['mort_1'])/full_province['mort_1']*100"
   ]
  },
  {
   "cell_type": "code",
   "execution_count": 8,
   "metadata": {},
   "outputs": [],
   "source": [
    "full_province.to_csv('change rate decomp.csv')"
   ]
  }
 ],
 "metadata": {
  "kernelspec": {
   "display_name": "Python 3",
   "language": "python",
   "name": "python3"
  },
  "language_info": {
   "codemirror_mode": {
    "name": "ipython",
    "version": 3
   },
   "file_extension": ".py",
   "mimetype": "text/x-python",
   "name": "python",
   "nbconvert_exporter": "python",
   "pygments_lexer": "ipython3",
   "version": "3.8.5"
  }
 },
 "nbformat": 4,
 "nbformat_minor": 5
}
