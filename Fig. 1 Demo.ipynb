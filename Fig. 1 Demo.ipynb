{
 "cells": [
  {
   "cell_type": "markdown",
   "metadata": {},
   "source": [
    "### Fig. 1"
   ]
  },
  {
   "cell_type": "markdown",
   "metadata": {},
   "source": [
    "#### Here we share a set of demonstrative code for ambient O${_3}$ mapping. The full 30-year historical ambient O${_3}$ tracking database currently (October 2022) is also used for another article under review. We therefore share two representative years, 1990 and 2019, as examples for demonstration. Full database can be shared upon request to Dr Haitong Z Sun (zs347@cam.ac.uk) for research collaboration. "
   ]
  },
  {
   "cell_type": "code",
   "execution_count": 1,
   "metadata": {},
   "outputs": [],
   "source": [
    "import pandas as pd\n",
    "import numpy as np\n",
    "import matplotlib.pyplot as plt\n",
    "\n",
    "import warnings\n",
    "warnings.filterwarnings(\"ignore\")"
   ]
  },
  {
   "cell_type": "code",
   "execution_count": 2,
   "metadata": {},
   "outputs": [
    {
     "data": {
      "text/plain": [
       "['longitude',\n",
       " 'latitude',\n",
       " 'province',\n",
       " 'city',\n",
       " 'county',\n",
       " 'OSDMA8_urban_1990',\n",
       " 'OSDMA8_rural_1990',\n",
       " 'OSDMA8_urban_2019',\n",
       " 'OSDMA8_rural_2019',\n",
       " 'pop_urban_1990',\n",
       " 'pop_rural_1990',\n",
       " 'pop_urban_2019',\n",
       " 'pop_rural_2019',\n",
       " 'OSDMA8_PWE_1990',\n",
       " 'OSDMA8_PWE_2019']"
      ]
     },
     "execution_count": 2,
     "metadata": {},
     "output_type": "execute_result"
    }
   ],
   "source": [
    "data = pd.read_csv('Fig. 1 Demo.csv')\n",
    "list(data)"
   ]
  },
  {
   "cell_type": "markdown",
   "metadata": {},
   "source": [
    "#### Here we show the readers that our sample ambient O${_3}$ dataset includes: (1-2) longitude and latitude, (3-5) lables of province, city, or county, (6-9) urban-rural differntiated ambient O${_3}$ by OSDMA8 metric, (10-13) urban-rural differentiated population density, and (14-15) population-weighted O${_3}$ exposure level (PWE). "
   ]
  },
  {
   "cell_type": "markdown",
   "metadata": {},
   "source": [
    "#### We need to calculate prefecture-level city-average ambient O${_3}$ concentrations for GIS mapping. We have to draw the city-labeled averaged concentrations from gridded database to realise vity-aggregated mapping in ArcMap/QGIS software. "
   ]
  },
  {
   "cell_type": "code",
   "execution_count": 3,
   "metadata": {},
   "outputs": [],
   "source": [
    "ozone_city = data.groupby(['city']).mean()[['OSDMA8_urban_1990',\n",
    "                                            'OSDMA8_urban_2019',\n",
    "                                            'OSDMA8_urban_2019',\n",
    "                                            'OSDMA8_rural_2019',\n",
    "                                            'OSDMA8_PWE_1990',\n",
    "                                            'OSDMA8_PWE_2019']]"
   ]
  },
  {
   "cell_type": "markdown",
   "metadata": {},
   "source": [
    "#### The particularity of Hainan Province: the provincial government directly administrates 14 counties, and thus we habitaully treat them with the same administrative level as prefectural cities. Note: the GIS-based shapefile denotes the regions with Chinese characters, e.g. \"海南\" for Hainan. "
   ]
  },
  {
   "cell_type": "code",
   "execution_count": 4,
   "metadata": {},
   "outputs": [],
   "source": [
    "ozone_Hainan = data[data['province'] == \"海南\"] \n",
    "ozone_Hainan_county = data.groupby(['county']).mean()[['OSDMA8_urban_1990',\n",
    "                                                       'OSDMA8_urban_2019',\n",
    "                                                       'OSDMA8_urban_2019',\n",
    "                                                       'OSDMA8_rural_2019',\n",
    "                                                       'OSDMA8_PWE_1990',\n",
    "                                                       'OSDMA8_PWE_2019']]"
   ]
  },
  {
   "cell_type": "markdown",
   "metadata": {},
   "source": [
    "#### Export the processed datasets for ArcMap/QGIS import. "
   ]
  },
  {
   "cell_type": "code",
   "execution_count": 5,
   "metadata": {},
   "outputs": [],
   "source": [
    "ozone_city.to_csv('Fig. 1 ozone_city.csv', index=True)\n",
    "ozone_Hainan_county.to_csv('Fig. 1 ozone_Hainan_county.csv', index=True)"
   ]
  },
  {
   "cell_type": "code",
   "execution_count": null,
   "metadata": {},
   "outputs": [],
   "source": []
  }
 ],
 "metadata": {
  "kernelspec": {
   "display_name": "Python 3",
   "language": "python",
   "name": "python3"
  },
  "language_info": {
   "codemirror_mode": {
    "name": "ipython",
    "version": 3
   },
   "file_extension": ".py",
   "mimetype": "text/x-python",
   "name": "python",
   "nbconvert_exporter": "python",
   "pygments_lexer": "ipython3",
   "version": "3.8.5"
  }
 },
 "nbformat": 4,
 "nbformat_minor": 4
}
