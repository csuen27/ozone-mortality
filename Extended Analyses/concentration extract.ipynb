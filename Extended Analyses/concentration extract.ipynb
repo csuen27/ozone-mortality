{
 "cells": [
  {
   "cell_type": "code",
   "execution_count": 1,
   "metadata": {},
   "outputs": [],
   "source": [
    "import warnings\n",
    "warnings.filterwarnings(\"ignore\")\n",
    "import pandas as pd\n",
    "import numpy as np\n",
    "import matplotlib as mpl\n",
    "import matplotlib.pyplot as plt"
   ]
  },
  {
   "cell_type": "code",
   "execution_count": 23,
   "metadata": {},
   "outputs": [],
   "source": [
    "data_93 = pd.read_csv('/Volumes/Database/Research/Urban-Rural/月份精度的臭氧数据库/pop_93.csv')\n",
    "data_94 = pd.read_csv('/Volumes/Database/Research/Urban-Rural/月份精度的臭氧数据库/pop_94.csv')"
   ]
  },
  {
   "cell_type": "code",
   "execution_count": 3,
   "metadata": {},
   "outputs": [],
   "source": [
    "data_95 = pd.read_csv('/Volumes/Database/Research/Urban-Rural/月份精度的臭氧数据库/pop_95.csv')"
   ]
  },
  {
   "cell_type": "code",
   "execution_count": 4,
   "metadata": {},
   "outputs": [],
   "source": [
    "data_96 = pd.read_csv('/Volumes/Database/Research/Urban-Rural/月份精度的臭氧数据库/pop_96.csv')"
   ]
  },
  {
   "cell_type": "code",
   "execution_count": 46,
   "metadata": {},
   "outputs": [],
   "source": [
    "data_99 = pd.read_csv('/Volumes/Database/Research/Urban-Rural/月份精度的臭氧数据库/pop_99.csv')"
   ]
  },
  {
   "cell_type": "code",
   "execution_count": 52,
   "metadata": {},
   "outputs": [],
   "source": [
    "data_00 = pd.read_csv('/Volumes/Database/Research/Urban-Rural/月份精度的臭氧数据库/pop_00.csv')"
   ]
  },
  {
   "cell_type": "code",
   "execution_count": null,
   "metadata": {},
   "outputs": [],
   "source": [
    "data_01 = pd.read_csv('/Volumes/Database/Research/Urban-Rural/月份精度的臭氧数据库/pop_01.csv')"
   ]
  },
  {
   "cell_type": "code",
   "execution_count": null,
   "metadata": {},
   "outputs": [],
   "source": [
    "data_02 = pd.read_csv('/Volumes/Database/Research/Urban-Rural/月份精度的臭氧数据库/pop_02.csv')"
   ]
  },
  {
   "cell_type": "code",
   "execution_count": null,
   "metadata": {},
   "outputs": [],
   "source": [
    "data_03 = pd.read_csv('/Volumes/Database/Research/Urban-Rural/月份精度的臭氧数据库/pop_03.csv')"
   ]
  },
  {
   "cell_type": "code",
   "execution_count": 62,
   "metadata": {},
   "outputs": [],
   "source": [
    "data_04 = pd.read_csv('/Volumes/Database/Research/Urban-Rural/月份精度的臭氧数据库/pop_04.csv')"
   ]
  },
  {
   "cell_type": "code",
   "execution_count": 80,
   "metadata": {},
   "outputs": [],
   "source": [
    "data_05 = pd.read_csv('/Volumes/Database/Research/Urban-Rural/月份精度的臭氧数据库/pop_05.csv')"
   ]
  },
  {
   "cell_type": "code",
   "execution_count": 83,
   "metadata": {},
   "outputs": [],
   "source": [
    "data_06 = pd.read_csv('/Volumes/Database/Research/Urban-Rural/月份精度的臭氧数据库/pop_06.csv')"
   ]
  },
  {
   "cell_type": "code",
   "execution_count": 101,
   "metadata": {},
   "outputs": [],
   "source": [
    "data_07 = pd.read_csv('/Volumes/Database/Research/Urban-Rural/月份精度的臭氧数据库/pop_07.csv')"
   ]
  },
  {
   "cell_type": "code",
   "execution_count": 127,
   "metadata": {},
   "outputs": [],
   "source": [
    "data_09 = pd.read_csv('/Volumes/Database/Research/Urban-Rural/月份精度的臭氧数据库/pop_09.csv')"
   ]
  },
  {
   "cell_type": "code",
   "execution_count": 154,
   "metadata": {},
   "outputs": [],
   "source": [
    "data_14 = pd.read_csv('/Volumes/Database/Research/Urban-Rural/月份精度的臭氧数据库/pop_14.csv')"
   ]
  },
  {
   "cell_type": "code",
   "execution_count": 135,
   "metadata": {},
   "outputs": [],
   "source": [
    "data_18 = pd.read_csv('/Volumes/Database/Research/Urban-Rural/月份精度的臭氧数据库/pop_13.csv')"
   ]
  },
  {
   "cell_type": "code",
   "execution_count": null,
   "metadata": {},
   "outputs": [],
   "source": [
    "lon = 106.500\n",
    "lat = 29.627\n",
    "month = 10"
   ]
  },
  {
   "cell_type": "code",
   "execution_count": null,
   "metadata": {},
   "outputs": [],
   "source": [
    "list(data_93)"
   ]
  },
  {
   "cell_type": "code",
   "execution_count": 7,
   "metadata": {},
   "outputs": [
    {
     "data": {
      "text/plain": [
       "DA24h_urban    12.610930\n",
       "DA24h_rural    19.661778\n",
       "MDA8h_urban    31.511678\n",
       "MDA8h_rural    38.580736\n",
       "dtype: float64"
      ]
     },
     "execution_count": 7,
     "metadata": {},
     "output_type": "execute_result"
    }
   ],
   "source": [
    "data = data_93\n",
    "lon = 106.500\n",
    "lat = 29.627\n",
    "month = 12\n",
    "temp = data[data['longitude'] > lon-1.5]\n",
    "temp = temp[temp['longitude'] < lon+1.5]\n",
    "temp = temp[temp['latitude']  > lat-1.5]\n",
    "temp = temp[temp['latitude']  < lat+1.5]\n",
    "temp = temp[temp['month'] == month]\n",
    "temp[['DA24h_urban','DA24h_rural','MDA8h_urban','MDA8h_rural']].min()"
   ]
  },
  {
   "cell_type": "code",
   "execution_count": 155,
   "metadata": {},
   "outputs": [
    {
     "data": {
      "text/plain": [
       "DA24h_urban    21.975792\n",
       "DA24h_rural    30.156129\n",
       "MDA8h_urban    65.286849\n",
       "MDA8h_rural    67.474282\n",
       "dtype: float64"
      ]
     },
     "execution_count": 155,
     "metadata": {},
     "output_type": "execute_result"
    }
   ],
   "source": [
    "data = data_14\n",
    "lon = 121.516\n",
    "lat = 29.866\n",
    "month1 = 8\n",
    "month2 = 9\n",
    "temp = data[data['longitude'] > lon-2.8]\n",
    "temp = temp[temp['longitude'] < lon+2.8]\n",
    "temp = temp[temp['latitude']  > lat-2.8]\n",
    "temp = temp[temp['latitude']  < lat+2.8]\n",
    "temp = temp[temp['month'] > month1-1]\n",
    "temp = temp[temp['month'] < month2+1]\n",
    "temp[['DA24h_urban','DA24h_rural','MDA8h_urban','MDA8h_rural']].mean()"
   ]
  },
  {
   "cell_type": "code",
   "execution_count": null,
   "metadata": {},
   "outputs": [],
   "source": [
    "data = data_96\n",
    "lon = 106.500\n",
    "lat = 29.627\n",
    "month = 8\n",
    "temp = data[data['longitude'] > lon-0.2]\n",
    "temp = temp[temp['longitude'] < lon+0.2]\n",
    "temp = temp[temp['latitude']  > lat-0.2]\n",
    "temp = temp[temp['latitude']  < lat+0.2]\n",
    "temp = temp[temp['month'] == month]\n",
    "temp[['DA24h_urban','DA24h_rural','MDA8h_urban','MDA8h_rural']].mean()"
   ]
  },
  {
   "cell_type": "code",
   "execution_count": null,
   "metadata": {},
   "outputs": [],
   "source": [
    "data = data_18\n",
    "lon = 119.733\n",
    "lat = 30.417\n",
    "month = 1\n",
    "temp = data[data['longitude'] > lon-0.2]\n",
    "temp = temp[temp['longitude'] < lon+0.2]\n",
    "temp = temp[temp['latitude']  > lat-0.2]\n",
    "temp = temp[temp['latitude']  < lat+0.2]\n",
    "#temp = temp[temp['month'] == month]\n",
    "temp[['DA24h_urban','DA24h_rural','MDA8h_urban','MDA8h_rural']].median()"
   ]
  },
  {
   "cell_type": "code",
   "execution_count": null,
   "metadata": {},
   "outputs": [],
   "source": [
    "data = data_00\n",
    "lon = 118.733\n",
    "lat = 32.050\n",
    "month = 1\n",
    "temp = data[data['longitude'] > lon-0.2]\n",
    "temp = temp[temp['longitude'] < lon+0.2]\n",
    "temp = temp[temp['latitude']  > lat-0.2]\n",
    "temp = temp[temp['latitude']  < lat+0.2]\n",
    "#temp = temp[temp['month'] == month]\n",
    "temp[['DA24h_urban','DA24h_rural','MDA8h_urban','MDA8h_rural']].median()"
   ]
  },
  {
   "cell_type": "code",
   "execution_count": null,
   "metadata": {},
   "outputs": [],
   "source": [
    "data = data_00\n",
    "lon = 119.733\n",
    "lat = 30.417\n",
    "month = 5\n",
    "temp = data[data['longitude'] > lon-0.2]\n",
    "temp = temp[temp['longitude'] < lon+0.2]\n",
    "temp = temp[temp['latitude']  > lat-0.2]\n",
    "temp = temp[temp['latitude']  < lat+0.2]\n",
    "temp = temp[temp['month'] == month]\n",
    "temp[['DA24h_urban','DA24h_rural','MDA8h_urban','MDA8h_rural']].mean()"
   ]
  },
  {
   "cell_type": "code",
   "execution_count": null,
   "metadata": {},
   "outputs": [],
   "source": [
    "data = data_00\n",
    "lon = 121.47\n",
    "lat = 31.23\n",
    "month = 1\n",
    "temp = data[data['longitude'] > lon-0.2]\n",
    "temp = temp[temp['longitude'] < lon+0.2]\n",
    "temp = temp[temp['latitude']  > lat-0.2]\n",
    "temp = temp[temp['latitude']  < lat+0.2]\n",
    "#temp = temp[temp['month'] == month]\n",
    "temp[['DA24h_urban','DA24h_rural','MDA8h_urban','MDA8h_rural']].mean()"
   ]
  },
  {
   "cell_type": "code",
   "execution_count": null,
   "metadata": {},
   "outputs": [],
   "source": [
    "data = data_03\n",
    "lon = 117.100\n",
    "lat = 36.250\n",
    "month1 = 7\n",
    "month2 = 11\n",
    "temp = data[data['longitude'] > lon-0.2]\n",
    "temp = temp[temp['longitude'] < lon+0.2]\n",
    "temp = temp[temp['latitude']  > lat-0.2]\n",
    "temp = temp[temp['latitude']  < lat+0.2]\n",
    "temp = temp[temp['month'] > month1-1]\n",
    "temp = temp[temp['month'] < month1+1]\n",
    "temp[['DA24h_urban','DA24h_rural','MDA8h_urban','MDA8h_rural']].mean()"
   ]
  },
  {
   "cell_type": "code",
   "execution_count": null,
   "metadata": {},
   "outputs": [],
   "source": [
    "data = data_03\n",
    "lon = 117.117\n",
    "lat = 40.650\n",
    "month1 = 9\n",
    "month2 = 11\n",
    "temp = data[data['longitude'] > lon-0.2]\n",
    "temp = temp[temp['longitude'] < lon+0.2]\n",
    "temp = temp[temp['latitude']  > lat-0.2]\n",
    "temp = temp[temp['latitude']  < lat+0.2]\n",
    "temp = temp[temp['month'] > month1-1]\n",
    "temp = temp[temp['month'] < month1+1]\n",
    "temp[['DA24h_urban','DA24h_rural','MDA8h_urban','MDA8h_rural']].mean()"
   ]
  },
  {
   "cell_type": "code",
   "execution_count": null,
   "metadata": {},
   "outputs": [],
   "source": [
    "data = data_04\n",
    "lon = 121.535\n",
    "lat = 31.233\n",
    "month1 = 1\n",
    "month2 = 12\n",
    "temp = data[data['longitude'] > lon-0.2]\n",
    "temp = temp[temp['longitude'] < lon+0.2]\n",
    "temp = temp[temp['latitude']  > lat-0.2]\n",
    "temp = temp[temp['latitude']  < lat+0.2]\n",
    "temp = temp[temp['month'] > month1-1]\n",
    "temp = temp[temp['month'] < month1+1]\n",
    "temp[['DA24h_urban','DA24h_rural','MDA8h_urban','MDA8h_rural']].median()"
   ]
  },
  {
   "cell_type": "code",
   "execution_count": null,
   "metadata": {},
   "outputs": [],
   "source": [
    "data = data_04\n",
    "lon = 118.150\n",
    "lat = 30.140\n",
    "month1 = 5\n",
    "month2 = 5\n",
    "temp = data[data['longitude'] > lon-0.5]\n",
    "temp = temp[temp['longitude'] < lon+0.5]\n",
    "temp = temp[temp['latitude']  > lat-0.5]\n",
    "temp = temp[temp['latitude']  < lat+0.5]\n",
    "temp = temp[temp['month'] > month1-1]\n",
    "temp = temp[temp['month'] < month1+1]\n",
    "temp[['DA24h_urban','DA24h_rural','MDA8h_urban','MDA8h_rural']].max()"
   ]
  },
  {
   "cell_type": "code",
   "execution_count": null,
   "metadata": {},
   "outputs": [],
   "source": [
    "data = data_04\n",
    "lon = 113.590\n",
    "lat = 22.610\n",
    "month1 = 10\n",
    "month2 = 11\n",
    "temp = data[data['longitude'] > lon-0.5]\n",
    "temp = temp[temp['longitude'] < lon+0.5]\n",
    "temp = temp[temp['latitude']  > lat-0.5]\n",
    "temp = temp[temp['latitude']  < lat+0.5]\n",
    "temp = temp[temp['month'] > month1-1]\n",
    "temp = temp[temp['month'] < month1+1]\n",
    "temp[['DA24h_urban','DA24h_rural','MDA8h_urban','MDA8h_rural']].median()"
   ]
  },
  {
   "cell_type": "code",
   "execution_count": null,
   "metadata": {},
   "outputs": [],
   "source": [
    "data = data_06\n",
    "lon = 117.167\n",
    "lat = 39.100\n",
    "month1 = 9\n",
    "month2 = 10\n",
    "temp = data[data['longitude'] > lon-1.2]\n",
    "temp = temp[temp['longitude'] < lon+1.2]\n",
    "temp = temp[temp['latitude']  > lat-1.2]\n",
    "temp = temp[temp['latitude']  < lat+1.2]\n",
    "temp = temp[temp['month'] > month1-1]\n",
    "temp = temp[temp['month'] < month1+1]\n",
    "temp[['DA24h_urban','DA24h_rural','MDA8h_urban','MDA8h_rural']].median()"
   ]
  },
  {
   "cell_type": "code",
   "execution_count": 26,
   "metadata": {},
   "outputs": [
    {
     "data": {
      "text/plain": [
       "DA24h_urban    35.853731\n",
       "DA24h_rural    42.271082\n",
       "MDA8h_urban    68.936648\n",
       "MDA8h_rural    70.171760\n",
       "dtype: float64"
      ]
     },
     "execution_count": 26,
     "metadata": {},
     "output_type": "execute_result"
    }
   ],
   "source": [
    "data = data_07\n",
    "lon = 116.774\n",
    "lat = 40.483\n",
    "month1 = 8\n",
    "month2 = 8\n",
    "temp = data[data['longitude'] > lon-1.2]\n",
    "temp = temp[temp['longitude'] < lon+1.2]\n",
    "temp = temp[temp['latitude']  > lat-1.2]\n",
    "temp = temp[temp['latitude']  < lat+1.2]\n",
    "temp = temp[temp['month'] > month1-1]\n",
    "temp = temp[temp['month'] < month1+1]\n",
    "temp[['DA24h_urban','DA24h_rural','MDA8h_urban','MDA8h_rural']].median()"
   ]
  },
  {
   "cell_type": "code",
   "execution_count": 42,
   "metadata": {},
   "outputs": [
    {
     "data": {
      "text/plain": [
       "DA24h_urban    32.104381\n",
       "DA24h_rural    37.989890\n",
       "MDA8h_urban    52.123615\n",
       "MDA8h_rural    55.940314\n",
       "dtype: float64"
      ]
     },
     "execution_count": 42,
     "metadata": {},
     "output_type": "execute_result"
    }
   ],
   "source": [
    "data = data_07\n",
    "lon = 113.550\n",
    "lat = 22.710\n",
    "month1 = 11\n",
    "month2 = 12\n",
    "temp = data[data['longitude'] > lon-1.2]\n",
    "temp = temp[temp['longitude'] < lon+1.2]\n",
    "temp = temp[temp['latitude']  > lat-1.2]\n",
    "temp = temp[temp['latitude']  < lat+1.2]\n",
    "temp = temp[temp['month'] > month1-1]\n",
    "temp = temp[temp['month'] < month1+1]\n",
    "temp[['DA24h_urban','DA24h_rural','MDA8h_urban','MDA8h_rural']].max()"
   ]
  },
  {
   "cell_type": "code",
   "execution_count": 43,
   "metadata": {},
   "outputs": [],
   "source": [
    "data_08 = pd.read_csv('/Volumes/Database/Research/Urban-Rural/月份精度的臭氧数据库/pop_08.csv')"
   ]
  },
  {
   "cell_type": "code",
   "execution_count": 59,
   "metadata": {},
   "outputs": [
    {
     "data": {
      "text/plain": [
       "DA24h_urban    21.828186\n",
       "DA24h_rural    30.595042\n",
       "MDA8h_urban    40.497433\n",
       "MDA8h_rural    49.051038\n",
       "dtype: float64"
      ]
     },
     "execution_count": 59,
     "metadata": {},
     "output_type": "execute_result"
    }
   ],
   "source": [
    "data = data_08\n",
    "lon = 113.550\n",
    "lat = 22.710\n",
    "month1 = 11\n",
    "month2 = 12\n",
    "temp = data[data['longitude'] > lon-1.2]\n",
    "temp = temp[temp['longitude'] < lon+1.2]\n",
    "temp = temp[temp['latitude']  > lat-1.2]\n",
    "temp = temp[temp['latitude']  < lat+1.2]\n",
    "temp = temp[temp['month'] > month1-1]\n",
    "temp = temp[temp['month'] < month1+1]\n",
    "temp[['DA24h_urban','DA24h_rural','MDA8h_urban','MDA8h_rural']].mean()"
   ]
  },
  {
   "cell_type": "code",
   "execution_count": 60,
   "metadata": {},
   "outputs": [],
   "source": [
    "data_09 = pd.read_csv('/Volumes/Database/Research/Urban-Rural/月份精度的臭氧数据库/pop_09.csv')"
   ]
  },
  {
   "cell_type": "code",
   "execution_count": 64,
   "metadata": {},
   "outputs": [
    {
     "data": {
      "text/plain": [
       "DA24h_urban    12.392760\n",
       "DA24h_rural    23.220632\n",
       "MDA8h_urban    29.237978\n",
       "MDA8h_rural    37.450388\n",
       "dtype: float64"
      ]
     },
     "execution_count": 64,
     "metadata": {},
     "output_type": "execute_result"
    }
   ],
   "source": [
    "data = data_09\n",
    "lon = 117.200\n",
    "lat = 39.067\n",
    "month1 = 1\n",
    "month2 = 12\n",
    "temp = data[data['longitude'] > lon-1.2]\n",
    "temp = temp[temp['longitude'] < lon+1.2]\n",
    "temp = temp[temp['latitude']  > lat-1.2]\n",
    "temp = temp[temp['latitude']  < lat+1.2]\n",
    "temp = temp[temp['month'] > month1-1]\n",
    "temp = temp[temp['month'] < month1+1]\n",
    "temp[['DA24h_urban','DA24h_rural','MDA8h_urban','MDA8h_rural']].mean()"
   ]
  },
  {
   "cell_type": "code",
   "execution_count": 65,
   "metadata": {},
   "outputs": [],
   "source": [
    "data_10 = pd.read_csv('/Volumes/Database/Research/Urban-Rural/月份精度的臭氧数据库/pop_10.csv')"
   ]
  },
  {
   "cell_type": "code",
   "execution_count": 73,
   "metadata": {},
   "outputs": [
    {
     "data": {
      "text/plain": [
       "DA24h_urban    33.760087\n",
       "DA24h_rural    39.841443\n",
       "MDA8h_urban    62.389670\n",
       "MDA8h_rural    65.731274\n",
       "dtype: float64"
      ]
     },
     "execution_count": 73,
     "metadata": {},
     "output_type": "execute_result"
    }
   ],
   "source": [
    "data = data_10\n",
    "lon = 90.983\n",
    "lat = 30.767\n",
    "month1 = 10\n",
    "month2 = 11\n",
    "temp = data[data['longitude'] > lon-1.2]\n",
    "temp = temp[temp['longitude'] < lon+1.2]\n",
    "temp = temp[temp['latitude']  > lat-1.2]\n",
    "temp = temp[temp['latitude']  < lat+1.2]\n",
    "temp = temp[temp['month'] > month1-1]\n",
    "temp = temp[temp['month'] < month1+1]\n",
    "temp[['DA24h_urban','DA24h_rural','MDA8h_urban','MDA8h_rural']].max()"
   ]
  },
  {
   "cell_type": "code",
   "execution_count": 74,
   "metadata": {},
   "outputs": [],
   "source": [
    "data_11 = pd.read_csv('/Volumes/Database/Research/Urban-Rural/月份精度的臭氧数据库/pop_11.csv')"
   ]
  },
  {
   "cell_type": "code",
   "execution_count": 88,
   "metadata": {},
   "outputs": [
    {
     "data": {
      "text/plain": [
       "DA24h_urban    14.430165\n",
       "DA24h_rural    22.952077\n",
       "MDA8h_urban    42.201621\n",
       "MDA8h_rural    46.137841\n",
       "dtype: float64"
      ]
     },
     "execution_count": 88,
     "metadata": {},
     "output_type": "execute_result"
    }
   ],
   "source": [
    "data = data_11\n",
    "lon = 118.950\n",
    "lat = 32.117\n",
    "month1 = 12\n",
    "month2 = 12\n",
    "temp = data[data['longitude'] > lon-1.5]\n",
    "temp = temp[temp['longitude'] < lon+1.5]\n",
    "temp = temp[temp['latitude']  > lat-1.5]\n",
    "temp = temp[temp['latitude']  < lat+1.5]\n",
    "temp = temp[temp['month'] > month1-1]\n",
    "temp = temp[temp['month'] < month1+1]\n",
    "temp[['DA24h_urban','DA24h_rural','MDA8h_urban','MDA8h_rural']].min()"
   ]
  },
  {
   "cell_type": "code",
   "execution_count": 89,
   "metadata": {},
   "outputs": [],
   "source": [
    "data_12 = pd.read_csv('/Volumes/Database/Research/Urban-Rural/月份精度的臭氧数据库/pop_12.csv')"
   ]
  },
  {
   "cell_type": "code",
   "execution_count": 104,
   "metadata": {},
   "outputs": [
    {
     "data": {
      "text/plain": [
       "DA24h_urban    15.848076\n",
       "DA24h_rural    25.834051\n",
       "MDA8h_urban    66.945579\n",
       "MDA8h_rural    68.360671\n",
       "dtype: float64"
      ]
     },
     "execution_count": 104,
     "metadata": {},
     "output_type": "execute_result"
    }
   ],
   "source": [
    "data = data_12\n",
    "lon = 118.950\n",
    "lat = 32.117\n",
    "month1 = 7\n",
    "month2 = 7\n",
    "temp = data[data['longitude'] > lon-1.5]\n",
    "temp = temp[temp['longitude'] < lon+1.5]\n",
    "temp = temp[temp['latitude']  > lat-1.5]\n",
    "temp = temp[temp['latitude']  < lat+1.5]\n",
    "temp = temp[temp['month'] > month1-1]\n",
    "temp = temp[temp['month'] < month1+1]\n",
    "temp[['DA24h_urban','DA24h_rural','MDA8h_urban','MDA8h_rural']].mean()"
   ]
  },
  {
   "cell_type": "code",
   "execution_count": 105,
   "metadata": {},
   "outputs": [],
   "source": [
    "data_13 = pd.read_csv('/Volumes/Database/Research/Urban-Rural/月份精度的臭氧数据库/pop_13.csv')"
   ]
  },
  {
   "cell_type": "code",
   "execution_count": 123,
   "metadata": {},
   "outputs": [
    {
     "data": {
      "text/plain": [
       "DA24h_urban    34.961746\n",
       "DA24h_rural    40.566322\n",
       "MDA8h_urban    53.335037\n",
       "MDA8h_rural    58.531664\n",
       "dtype: float64"
      ]
     },
     "execution_count": 123,
     "metadata": {},
     "output_type": "execute_result"
    }
   ],
   "source": [
    "data = data_13\n",
    "lon = 114.125\n",
    "lat = 22.410\n",
    "month1 = 11\n",
    "month2 = 12\n",
    "temp = data[data['longitude'] > lon-1.2]\n",
    "temp = temp[temp['longitude'] < lon+1.2]\n",
    "temp = temp[temp['latitude']  > lat-1.2]\n",
    "temp = temp[temp['latitude']  < lat+1.2]\n",
    "temp = temp[temp['month'] > month1-1]\n",
    "temp = temp[temp['month'] < month1+1]\n",
    "temp[['DA24h_urban','DA24h_rural','MDA8h_urban','MDA8h_rural']].max()"
   ]
  },
  {
   "cell_type": "code",
   "execution_count": 124,
   "metadata": {},
   "outputs": [],
   "source": [
    "data_14 = pd.read_csv('/Volumes/Database/Research/Urban-Rural/月份精度的臭氧数据库/pop_14.csv')"
   ]
  },
  {
   "cell_type": "code",
   "execution_count": 126,
   "metadata": {},
   "outputs": [
    {
     "data": {
      "text/plain": [
       "DA24h_urban    20.303414\n",
       "DA24h_rural    38.367602\n",
       "MDA8h_urban    35.171278\n",
       "MDA8h_rural    45.071643\n",
       "dtype: float64"
      ]
     },
     "execution_count": 126,
     "metadata": {},
     "output_type": "execute_result"
    }
   ],
   "source": [
    "data = data_14\n",
    "lon = 117\n",
    "lat = 38.5\n",
    "month1 = 1\n",
    "month2 = 12\n",
    "temp = data[data['longitude'] > lon-2.5]\n",
    "temp = temp[temp['longitude'] < lon+2.5]\n",
    "temp = temp[temp['latitude']  > lat-2]\n",
    "temp = temp[temp['latitude']  < lat+2]\n",
    "temp = temp[temp['month'] > month1-1]\n",
    "temp = temp[temp['month'] < month1+1]\n",
    "temp[['DA24h_urban','DA24h_rural','MDA8h_urban','MDA8h_rural']].max()"
   ]
  },
  {
   "cell_type": "code",
   "execution_count": 127,
   "metadata": {},
   "outputs": [],
   "source": [
    "data_15 = pd.read_csv('/Volumes/Database/Research/Urban-Rural/月份精度的臭氧数据库/pop_15.csv')"
   ]
  },
  {
   "cell_type": "code",
   "execution_count": 134,
   "metadata": {},
   "outputs": [
    {
     "data": {
      "text/plain": [
       "DA24h_urban    16.210823\n",
       "DA24h_rural    36.700652\n",
       "MDA8h_urban    33.330573\n",
       "MDA8h_rural    46.795827\n",
       "dtype: float64"
      ]
     },
     "execution_count": 134,
     "metadata": {},
     "output_type": "execute_result"
    }
   ],
   "source": [
    "data = data_15\n",
    "lon = 117.000\n",
    "lat = 36.260\n",
    "month1 = 1\n",
    "month2 = 12\n",
    "temp = data[data['longitude'] > lon-1.5]\n",
    "temp = temp[temp['longitude'] < lon+1.5]\n",
    "temp = temp[temp['latitude']  > lat-1.4]\n",
    "temp = temp[temp['latitude']  < lat+1.4]\n",
    "temp = temp[temp['month'] > month1-1]\n",
    "temp = temp[temp['month'] < month2+1]\n",
    "temp[['DA24h_urban','DA24h_rural','MDA8h_urban','MDA8h_rural']].max()"
   ]
  },
  {
   "cell_type": "code",
   "execution_count": 10,
   "metadata": {},
   "outputs": [],
   "source": [
    "data_17 = pd.read_csv('/Volumes/Database/Research/Urban-Rural/月份精度的臭氧数据库/pop_17.csv')"
   ]
  },
  {
   "cell_type": "code",
   "execution_count": 22,
   "metadata": {},
   "outputs": [
    {
     "data": {
      "text/plain": [
       "DA24h_urban     48.459863\n",
       "DA24h_rural     56.842216\n",
       "MDA8h_urban    115.909793\n",
       "MDA8h_rural    104.342196\n",
       "dtype: float64"
      ]
     },
     "execution_count": 22,
     "metadata": {},
     "output_type": "execute_result"
    }
   ],
   "source": [
    "data = data_16\n",
    "lon = 117.20 \n",
    "lat = 39.07 \n",
    "month1 = 1\n",
    "month2 = 12\n",
    "temp = data[data['longitude'] > lon-2.5]\n",
    "temp = temp[temp['longitude'] < lon+2.5]\n",
    "temp = temp[temp['latitude']  > lat-2.0]\n",
    "temp = temp[temp['latitude']  < lat+2.0]\n",
    "temp = temp[temp['month'] > month1-1]\n",
    "temp = temp[temp['month'] < month2+1]\n",
    "temp[['DA24h_urban','DA24h_rural','MDA8h_urban','MDA8h_rural']].max()"
   ]
  },
  {
   "cell_type": "code",
   "execution_count": 141,
   "metadata": {},
   "outputs": [],
   "source": [
    "data_18 = pd.read_csv('/Volumes/Database/Research/Urban-Rural/月份精度的臭氧数据库/pop_18.csv')"
   ]
  },
  {
   "cell_type": "code",
   "execution_count": 147,
   "metadata": {},
   "outputs": [
    {
     "data": {
      "text/plain": [
       "DA24h_urban    32.491417\n",
       "DA24h_rural    40.638543\n",
       "MDA8h_urban    75.331883\n",
       "MDA8h_rural    75.744095\n",
       "dtype: float64"
      ]
     },
     "execution_count": 147,
     "metadata": {},
     "output_type": "execute_result"
    }
   ],
   "source": [
    "data = data_18\n",
    "lon = 121.500\n",
    "lat = 31.330\n",
    "month1 = 5\n",
    "month2 = 9\n",
    "temp = data[data['longitude'] > lon-2.5]\n",
    "temp = temp[temp['longitude'] < lon+2.5]\n",
    "temp = temp[temp['latitude']  > lat-2.4]\n",
    "temp = temp[temp['latitude']  < lat+2.4]\n",
    "temp = temp[temp['month'] > month1-1]\n",
    "temp = temp[temp['month'] < month2+1]\n",
    "temp[['DA24h_urban','DA24h_rural','MDA8h_urban','MDA8h_rural']].mean()"
   ]
  },
  {
   "cell_type": "code",
   "execution_count": 148,
   "metadata": {},
   "outputs": [],
   "source": [
    "data_00 = pd.read_csv('/Volumes/Database/Research/Urban-Rural/月份精度的臭氧数据库/pop_00.csv')\n",
    "data_01 = pd.read_csv('/Volumes/Database/Research/Urban-Rural/月份精度的臭氧数据库/pop_01.csv')\n",
    "data_02 = pd.read_csv('/Volumes/Database/Research/Urban-Rural/月份精度的臭氧数据库/pop_02.csv')\n",
    "data_03 = pd.read_csv('/Volumes/Database/Research/Urban-Rural/月份精度的臭氧数据库/pop_03.csv')"
   ]
  },
  {
   "cell_type": "code",
   "execution_count": 149,
   "metadata": {},
   "outputs": [
    {
     "data": {
      "text/plain": [
       "DA24h_urban    17.646882\n",
       "DA24h_rural    32.095403\n",
       "MDA8h_urban    36.169237\n",
       "MDA8h_rural    44.244415\n",
       "dtype: float64"
      ]
     },
     "execution_count": 149,
     "metadata": {},
     "output_type": "execute_result"
    }
   ],
   "source": [
    "data = data_00\n",
    "lon = 121.500\n",
    "lat = 31.330\n",
    "month1 = 1\n",
    "month2 = 2\n",
    "temp = data[data['longitude'] > lon-1.5]\n",
    "temp = temp[temp['longitude'] < lon+1.5]\n",
    "temp = temp[temp['latitude']  > lat-1.5]\n",
    "temp = temp[temp['latitude']  < lat+1.5]\n",
    "temp = temp[temp['month'] > month1-1]\n",
    "temp = temp[temp['month'] < month2+1]\n",
    "temp[['DA24h_urban','DA24h_rural','MDA8h_urban','MDA8h_rural']].mean()"
   ]
  },
  {
   "cell_type": "code",
   "execution_count": 150,
   "metadata": {},
   "outputs": [
    {
     "data": {
      "text/plain": [
       "DA24h_urban    27.258213\n",
       "DA24h_rural    43.235755\n",
       "MDA8h_urban    57.042306\n",
       "MDA8h_rural    60.051695\n",
       "dtype: float64"
      ]
     },
     "execution_count": 150,
     "metadata": {},
     "output_type": "execute_result"
    }
   ],
   "source": [
    "data = data_00\n",
    "lon = 121.500\n",
    "lat = 31.330\n",
    "month1 = 3\n",
    "month2 = 5\n",
    "temp = data[data['longitude'] > lon-1.5]\n",
    "temp = temp[temp['longitude'] < lon+1.5]\n",
    "temp = temp[temp['latitude']  > lat-1.5]\n",
    "temp = temp[temp['latitude']  < lat+1.5]\n",
    "temp = temp[temp['month'] > month1-1]\n",
    "temp = temp[temp['month'] < month2+1]\n",
    "temp[['DA24h_urban','DA24h_rural','MDA8h_urban','MDA8h_rural']].mean()"
   ]
  },
  {
   "cell_type": "code",
   "execution_count": 151,
   "metadata": {},
   "outputs": [
    {
     "data": {
      "text/plain": [
       "DA24h_urban    21.822751\n",
       "DA24h_rural    34.347264\n",
       "MDA8h_urban    67.890177\n",
       "MDA8h_rural    71.425371\n",
       "dtype: float64"
      ]
     },
     "execution_count": 151,
     "metadata": {},
     "output_type": "execute_result"
    }
   ],
   "source": [
    "data = data_00\n",
    "lon = 121.500\n",
    "lat = 31.330\n",
    "month1 = 6\n",
    "month2 = 8\n",
    "temp = data[data['longitude'] > lon-1.5]\n",
    "temp = temp[temp['longitude'] < lon+1.5]\n",
    "temp = temp[temp['latitude']  > lat-1.5]\n",
    "temp = temp[temp['latitude']  < lat+1.5]\n",
    "temp = temp[temp['month'] > month1-1]\n",
    "temp = temp[temp['month'] < month2+1]\n",
    "temp[['DA24h_urban','DA24h_rural','MDA8h_urban','MDA8h_rural']].mean()"
   ]
  },
  {
   "cell_type": "code",
   "execution_count": 153,
   "metadata": {},
   "outputs": [
    {
     "data": {
      "text/plain": [
       "DA24h_urban    25.796941\n",
       "DA24h_rural    30.844485\n",
       "MDA8h_urban    60.630818\n",
       "MDA8h_rural    62.874923\n",
       "dtype: float64"
      ]
     },
     "execution_count": 153,
     "metadata": {},
     "output_type": "execute_result"
    }
   ],
   "source": [
    "data = data_00\n",
    "lon = 121.500\n",
    "lat = 31.330\n",
    "month1 = 9\n",
    "month2 = 11\n",
    "temp = data[data['longitude'] > lon-1.5]\n",
    "temp = temp[temp['longitude'] < lon+1.5]\n",
    "temp = temp[temp['latitude']  > lat-1.5]\n",
    "temp = temp[temp['latitude']  < lat+1.5]\n",
    "temp = temp[temp['month'] > month1-1]\n",
    "temp = temp[temp['month'] < month2+1]\n",
    "temp[['DA24h_urban','DA24h_rural','MDA8h_urban','MDA8h_rural']].min()"
   ]
  },
  {
   "cell_type": "code",
   "execution_count": 163,
   "metadata": {},
   "outputs": [
    {
     "data": {
      "text/plain": [
       "DA24h_urban    16.485003\n",
       "DA24h_rural    24.164472\n",
       "MDA8h_urban    45.241228\n",
       "MDA8h_rural    50.397106\n",
       "dtype: float64"
      ]
     },
     "execution_count": 163,
     "metadata": {},
     "output_type": "execute_result"
    }
   ],
   "source": [
    "data = data_03\n",
    "lon = 117.080\n",
    "lat = 34.500\n",
    "month1 = 10\n",
    "month2 = 12\n",
    "temp = data[data['longitude'] > lon-1.5]\n",
    "temp = temp[temp['longitude'] < lon+1.5]\n",
    "temp = temp[temp['latitude']  > lat-1.5]\n",
    "temp = temp[temp['latitude']  < lat+1.5]\n",
    "temp = temp[temp['month'] > month1-1]\n",
    "temp = temp[temp['month'] < month2+1]\n",
    "temp[['DA24h_urban','DA24h_rural','MDA8h_urban','MDA8h_rural']].min()"
   ]
  },
  {
   "cell_type": "code",
   "execution_count": 164,
   "metadata": {},
   "outputs": [],
   "source": [
    "data_08 = pd.read_csv('/Volumes/Database/Research/Urban-Rural/月份精度的臭氧数据库/pop_08.csv')"
   ]
  },
  {
   "cell_type": "code",
   "execution_count": 188,
   "metadata": {},
   "outputs": [
    {
     "data": {
      "text/plain": [
       "DA24h_urban    18.299651\n",
       "DA24h_rural    24.443265\n",
       "MDA8h_urban    42.201621\n",
       "MDA8h_rural    46.219344\n",
       "dtype: float64"
      ]
     },
     "execution_count": 188,
     "metadata": {},
     "output_type": "execute_result"
    }
   ],
   "source": [
    "data = data_08\n",
    "lon = 108.933\n",
    "lat = 34.250\n",
    "month1 = 10\n",
    "month2 = 12\n",
    "temp = data[data['longitude'] > lon-2.5]\n",
    "temp = temp[temp['longitude'] < lon+2.5]\n",
    "temp = temp[temp['latitude']  > lat-2.5]\n",
    "temp = temp[temp['latitude']  < lat+2.5]\n",
    "temp = temp[temp['month'] > month1-1]\n",
    "temp = temp[temp['month'] < month2+1]\n",
    "temp[['DA24h_urban','DA24h_rural','MDA8h_urban','MDA8h_rural']].min()"
   ]
  },
  {
   "cell_type": "code",
   "execution_count": 189,
   "metadata": {},
   "outputs": [],
   "source": [
    "data_15 = pd.read_csv('/Volumes/Database/Research/Urban-Rural/月份精度的臭氧数据库/pop_15.csv')"
   ]
  },
  {
   "cell_type": "code",
   "execution_count": 190,
   "metadata": {},
   "outputs": [
    {
     "data": {
      "text/plain": [
       "DA24h_urban    31.757934\n",
       "DA24h_rural    36.257883\n",
       "MDA8h_urban    56.239605\n",
       "MDA8h_rural    59.606069\n",
       "dtype: float64"
      ]
     },
     "execution_count": 190,
     "metadata": {},
     "output_type": "execute_result"
    }
   ],
   "source": [
    "data = data_15\n",
    "lon = 76.001\n",
    "lat = 39.474\n",
    "month1 = 9\n",
    "month2 = 11\n",
    "temp = data[data['longitude'] > lon-2.5]\n",
    "temp = temp[temp['longitude'] < lon+2.5]\n",
    "temp = temp[temp['latitude']  > lat-2.5]\n",
    "temp = temp[temp['latitude']  < lat+2.5]\n",
    "temp = temp[temp['month'] > month1-1]\n",
    "temp = temp[temp['month'] < month2+1]\n",
    "temp[['DA24h_urban','DA24h_rural','MDA8h_urban','MDA8h_rural']].min()"
   ]
  },
  {
   "cell_type": "code",
   "execution_count": 192,
   "metadata": {},
   "outputs": [
    {
     "data": {
      "text/plain": [
       "DA24h_urban    29.114010\n",
       "DA24h_rural    34.547193\n",
       "MDA8h_urban    44.772578\n",
       "MDA8h_rural    48.787004\n",
       "dtype: float64"
      ]
     },
     "execution_count": 192,
     "metadata": {},
     "output_type": "execute_result"
    }
   ],
   "source": [
    "data = data_15\n",
    "lon = 76.001\n",
    "lat = 39.474\n",
    "month1 = 3\n",
    "month2 = 5\n",
    "temp = data[data['longitude'] > lon-2.5]\n",
    "temp = temp[temp['longitude'] < lon+2.5]\n",
    "temp = temp[temp['latitude']  > lat-2.5]\n",
    "temp = temp[temp['latitude']  < lat+2.5]\n",
    "temp = temp[temp['month'] > month1-1]\n",
    "temp = temp[temp['month'] < month2+1]\n",
    "temp[['DA24h_urban','DA24h_rural','MDA8h_urban','MDA8h_rural']].min()"
   ]
  },
  {
   "cell_type": "code",
   "execution_count": 193,
   "metadata": {},
   "outputs": [
    {
     "data": {
      "text/plain": [
       "DA24h_urban    24.371890\n",
       "DA24h_rural    28.970748\n",
       "MDA8h_urban    40.102030\n",
       "MDA8h_rural    45.605132\n",
       "dtype: float64"
      ]
     },
     "execution_count": 193,
     "metadata": {},
     "output_type": "execute_result"
    }
   ],
   "source": [
    "data = data_15\n",
    "lon = 76.001\n",
    "lat = 39.474\n",
    "month1 = 10\n",
    "month2 = 12\n",
    "temp = data[data['longitude'] > lon-2.5]\n",
    "temp = temp[temp['longitude'] < lon+2.5]\n",
    "temp = temp[temp['latitude']  > lat-2.5]\n",
    "temp = temp[temp['latitude']  < lat+2.5]\n",
    "temp = temp[temp['month'] > month1-1]\n",
    "temp = temp[temp['month'] < month2+1]\n",
    "temp[['DA24h_urban','DA24h_rural','MDA8h_urban','MDA8h_rural']].min()"
   ]
  },
  {
   "cell_type": "code",
   "execution_count": null,
   "metadata": {},
   "outputs": [],
   "source": []
  }
 ],
 "metadata": {
  "kernelspec": {
   "display_name": "Python 3",
   "language": "python",
   "name": "python3"
  },
  "language_info": {
   "codemirror_mode": {
    "name": "ipython",
    "version": 3
   },
   "file_extension": ".py",
   "mimetype": "text/x-python",
   "name": "python",
   "nbconvert_exporter": "python",
   "pygments_lexer": "ipython3",
   "version": "3.8.5"
  }
 },
 "nbformat": 4,
 "nbformat_minor": 4
}
